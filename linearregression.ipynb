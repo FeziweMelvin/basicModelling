{
 "cells": [
  {
   "cell_type": "code",
   "execution_count": 1,
   "id": "e1bbf31a",
   "metadata": {
    "execution": {
     "iopub.execute_input": "2023-10-11T17:33:19.990221Z",
     "iopub.status.busy": "2023-10-11T17:33:19.989446Z",
     "iopub.status.idle": "2023-10-11T17:33:23.561540Z",
     "shell.execute_reply": "2023-10-11T17:33:23.560388Z"
    },
    "papermill": {
     "duration": 3.581482,
     "end_time": "2023-10-11T17:33:23.564530",
     "exception": false,
     "start_time": "2023-10-11T17:33:19.983048",
     "status": "completed"
    },
    "tags": []
   },
   "outputs": [],
   "source": [
    "import pandas as pd\n",
    "import numpy as np\n",
    "import seaborn as sns\n",
    "import matplotlib.pyplot as plt\n",
    "\n",
    "from sklearn.tree import DecisionTreeRegressor\n",
    "from sklearn.neural_network import MLPRegressor\n",
    "from sklearn.linear_model import LinearRegression\n",
    "from sklearn.ensemble import RandomForestRegressor, GradientBoostingRegressor\n",
    "\n",
    "from sklearn.model_selection import train_test_split\n",
    "from sklearn.preprocessing import LabelEncoder\n",
    "\n",
    "from sklearn.metrics import r2_score"
   ]
  },
  {
   "cell_type": "code",
   "execution_count": 2,
   "id": "96251125",
   "metadata": {
    "execution": {
     "iopub.execute_input": "2023-10-11T17:33:23.577494Z",
     "iopub.status.busy": "2023-10-11T17:33:23.576977Z",
     "iopub.status.idle": "2023-10-11T17:33:26.524990Z",
     "shell.execute_reply": "2023-10-11T17:33:26.523707Z"
    },
    "papermill": {
     "duration": 2.956412,
     "end_time": "2023-10-11T17:33:26.527614",
     "exception": false,
     "start_time": "2023-10-11T17:33:23.571202",
     "status": "completed"
    },
    "tags": []
   },
   "outputs": [],
   "source": [
    "df=pd.read_csv('house_prices.csv')"
   ]
  },
  {
   "cell_type": "code",
   "execution_count": 6,
   "id": "499b7e5a",
   "metadata": {
    "execution": {
     "iopub.execute_input": "2023-10-11T17:33:26.538191Z",
     "iopub.status.busy": "2023-10-11T17:33:26.537802Z",
     "iopub.status.idle": "2023-10-11T17:33:26.546570Z",
     "shell.execute_reply": "2023-10-11T17:33:26.545467Z"
    },
    "papermill": {
     "duration": 0.016728,
     "end_time": "2023-10-11T17:33:26.548726",
     "exception": false,
     "start_time": "2023-10-11T17:33:26.531998",
     "status": "completed"
    },
    "tags": []
   },
   "outputs": [
    {
     "data": {
      "text/html": [
       "<div>\n",
       "<style scoped>\n",
       "    .dataframe tbody tr th:only-of-type {\n",
       "        vertical-align: middle;\n",
       "    }\n",
       "\n",
       "    .dataframe tbody tr th {\n",
       "        vertical-align: top;\n",
       "    }\n",
       "\n",
       "    .dataframe thead th {\n",
       "        text-align: right;\n",
       "    }\n",
       "</style>\n",
       "<table border=\"1\" class=\"dataframe\">\n",
       "  <thead>\n",
       "    <tr style=\"text-align: right;\">\n",
       "      <th></th>\n",
       "      <th>Index</th>\n",
       "      <th>Title</th>\n",
       "      <th>Description</th>\n",
       "      <th>Amount(in rupees)</th>\n",
       "      <th>Price (in rupees)</th>\n",
       "      <th>location</th>\n",
       "      <th>Carpet Area</th>\n",
       "      <th>Status</th>\n",
       "      <th>Floor</th>\n",
       "      <th>Transaction</th>\n",
       "      <th>...</th>\n",
       "      <th>facing</th>\n",
       "      <th>overlooking</th>\n",
       "      <th>Society</th>\n",
       "      <th>Bathroom</th>\n",
       "      <th>Balcony</th>\n",
       "      <th>Car Parking</th>\n",
       "      <th>Ownership</th>\n",
       "      <th>Super Area</th>\n",
       "      <th>Dimensions</th>\n",
       "      <th>Plot Area</th>\n",
       "    </tr>\n",
       "  </thead>\n",
       "  <tbody>\n",
       "    <tr>\n",
       "      <th>187526</th>\n",
       "      <td>187526</td>\n",
       "      <td>3 BHK Ready to Occupy Flat for sale in Bollywo...</td>\n",
       "      <td>This magnificent 3 BHK Flat is available for s...</td>\n",
       "      <td>63 Lac</td>\n",
       "      <td>3225.0</td>\n",
       "      <td>zirakpur</td>\n",
       "      <td>NaN</td>\n",
       "      <td>Ready to Move</td>\n",
       "      <td>2 out of 4</td>\n",
       "      <td>New Property</td>\n",
       "      <td>...</td>\n",
       "      <td>East</td>\n",
       "      <td>Garden/Park</td>\n",
       "      <td>Bollywood Esencia</td>\n",
       "      <td>3</td>\n",
       "      <td>3</td>\n",
       "      <td>1 Covered</td>\n",
       "      <td>Freehold</td>\n",
       "      <td>1953 sqft</td>\n",
       "      <td>NaN</td>\n",
       "      <td>NaN</td>\n",
       "    </tr>\n",
       "    <tr>\n",
       "      <th>187527</th>\n",
       "      <td>187527</td>\n",
       "      <td>3 BHK Ready to Occupy Flat for sale in Sushma ...</td>\n",
       "      <td>Have a look at this immaculate 3 BHK flat for ...</td>\n",
       "      <td>55 Lac</td>\n",
       "      <td>3274.0</td>\n",
       "      <td>zirakpur</td>\n",
       "      <td>NaN</td>\n",
       "      <td>Ready to Move</td>\n",
       "      <td>4 out of 6</td>\n",
       "      <td>Resale</td>\n",
       "      <td>...</td>\n",
       "      <td>North - East</td>\n",
       "      <td>Garden/Park, Main Road</td>\n",
       "      <td>Sushma Urban Views</td>\n",
       "      <td>3</td>\n",
       "      <td>NaN</td>\n",
       "      <td>1 Covered</td>\n",
       "      <td>NaN</td>\n",
       "      <td>1680 sqft</td>\n",
       "      <td>NaN</td>\n",
       "      <td>NaN</td>\n",
       "    </tr>\n",
       "    <tr>\n",
       "      <th>187528</th>\n",
       "      <td>187528</td>\n",
       "      <td>3 BHK Ready to Occupy Flat for sale in Bollywo...</td>\n",
       "      <td>Gazipur, Zirakpur has an appealing 3 BHK flat ...</td>\n",
       "      <td>76 Lac</td>\n",
       "      <td>4343.0</td>\n",
       "      <td>zirakpur</td>\n",
       "      <td>1250 sqft</td>\n",
       "      <td>Ready to Move</td>\n",
       "      <td>1 out of 3</td>\n",
       "      <td>Resale</td>\n",
       "      <td>...</td>\n",
       "      <td>East</td>\n",
       "      <td>Garden/Park, Main Road</td>\n",
       "      <td>Bollywood Esencia</td>\n",
       "      <td>3</td>\n",
       "      <td>2</td>\n",
       "      <td>1 Covered,</td>\n",
       "      <td>Freehold</td>\n",
       "      <td>NaN</td>\n",
       "      <td>NaN</td>\n",
       "      <td>NaN</td>\n",
       "    </tr>\n",
       "    <tr>\n",
       "      <th>187529</th>\n",
       "      <td>187529</td>\n",
       "      <td>2 BHK Ready to Occupy Flat for sale in Friends...</td>\n",
       "      <td>Up for immediate sale is a 2 BHK apartment in ...</td>\n",
       "      <td>30 Lac</td>\n",
       "      <td>4231.0</td>\n",
       "      <td>zirakpur</td>\n",
       "      <td>NaN</td>\n",
       "      <td>Ready to Move</td>\n",
       "      <td>2 out of 2</td>\n",
       "      <td>Resale</td>\n",
       "      <td>...</td>\n",
       "      <td>NaN</td>\n",
       "      <td>Main Road</td>\n",
       "      <td>Friends Enclave</td>\n",
       "      <td>2</td>\n",
       "      <td>NaN</td>\n",
       "      <td>NaN</td>\n",
       "      <td>NaN</td>\n",
       "      <td>709 sqft</td>\n",
       "      <td>NaN</td>\n",
       "      <td>NaN</td>\n",
       "    </tr>\n",
       "    <tr>\n",
       "      <th>187530</th>\n",
       "      <td>187530</td>\n",
       "      <td>3 BHK Ready to Occupy Flat for sale in Affinit...</td>\n",
       "      <td>This exquisite 3 BHK Flat is offered for sale ...</td>\n",
       "      <td>1.18 Cr</td>\n",
       "      <td>6162.0</td>\n",
       "      <td>zirakpur</td>\n",
       "      <td>NaN</td>\n",
       "      <td>Ready to Move</td>\n",
       "      <td>5 out of 13</td>\n",
       "      <td>Resale</td>\n",
       "      <td>...</td>\n",
       "      <td>North - East</td>\n",
       "      <td>Garden/Park, Pool</td>\n",
       "      <td>Affinity Greens</td>\n",
       "      <td>4</td>\n",
       "      <td>4</td>\n",
       "      <td>1 Covered</td>\n",
       "      <td>Freehold</td>\n",
       "      <td>1915 sqft</td>\n",
       "      <td>NaN</td>\n",
       "      <td>NaN</td>\n",
       "    </tr>\n",
       "  </tbody>\n",
       "</table>\n",
       "<p>5 rows × 21 columns</p>\n",
       "</div>"
      ],
      "text/plain": [
       "         Index                                              Title  \\\n",
       "187526  187526  3 BHK Ready to Occupy Flat for sale in Bollywo...   \n",
       "187527  187527  3 BHK Ready to Occupy Flat for sale in Sushma ...   \n",
       "187528  187528  3 BHK Ready to Occupy Flat for sale in Bollywo...   \n",
       "187529  187529  2 BHK Ready to Occupy Flat for sale in Friends...   \n",
       "187530  187530  3 BHK Ready to Occupy Flat for sale in Affinit...   \n",
       "\n",
       "                                              Description Amount(in rupees)  \\\n",
       "187526  This magnificent 3 BHK Flat is available for s...           63 Lac    \n",
       "187527  Have a look at this immaculate 3 BHK flat for ...           55 Lac    \n",
       "187528  Gazipur, Zirakpur has an appealing 3 BHK flat ...           76 Lac    \n",
       "187529  Up for immediate sale is a 2 BHK apartment in ...           30 Lac    \n",
       "187530  This exquisite 3 BHK Flat is offered for sale ...          1.18 Cr    \n",
       "\n",
       "        Price (in rupees)  location Carpet Area         Status        Floor  \\\n",
       "187526             3225.0  zirakpur         NaN  Ready to Move   2 out of 4   \n",
       "187527             3274.0  zirakpur         NaN  Ready to Move   4 out of 6   \n",
       "187528             4343.0  zirakpur   1250 sqft  Ready to Move   1 out of 3   \n",
       "187529             4231.0  zirakpur         NaN  Ready to Move   2 out of 2   \n",
       "187530             6162.0  zirakpur         NaN  Ready to Move  5 out of 13   \n",
       "\n",
       "         Transaction  ...        facing             overlooking  \\\n",
       "187526  New Property  ...          East             Garden/Park   \n",
       "187527        Resale  ...  North - East  Garden/Park, Main Road   \n",
       "187528        Resale  ...          East  Garden/Park, Main Road   \n",
       "187529        Resale  ...           NaN               Main Road   \n",
       "187530        Resale  ...  North - East       Garden/Park, Pool   \n",
       "\n",
       "                   Society Bathroom Balcony Car Parking Ownership Super Area  \\\n",
       "187526   Bollywood Esencia        3       3   1 Covered  Freehold  1953 sqft   \n",
       "187527  Sushma Urban Views        3     NaN   1 Covered       NaN  1680 sqft   \n",
       "187528   Bollywood Esencia        3       2  1 Covered,  Freehold        NaN   \n",
       "187529     Friends Enclave        2     NaN         NaN       NaN   709 sqft   \n",
       "187530     Affinity Greens        4       4   1 Covered  Freehold  1915 sqft   \n",
       "\n",
       "       Dimensions  Plot Area  \n",
       "187526        NaN        NaN  \n",
       "187527        NaN        NaN  \n",
       "187528        NaN        NaN  \n",
       "187529        NaN        NaN  \n",
       "187530        NaN        NaN  \n",
       "\n",
       "[5 rows x 21 columns]"
      ]
     },
     "execution_count": 6,
     "metadata": {},
     "output_type": "execute_result"
    }
   ],
   "source": [
    "df.tail()"
   ]
  },
  {
   "cell_type": "code",
   "execution_count": 4,
   "id": "cac4fa9b",
   "metadata": {
    "execution": {
     "iopub.execute_input": "2023-10-11T17:33:26.560481Z",
     "iopub.status.busy": "2023-10-11T17:33:26.560038Z",
     "iopub.status.idle": "2023-10-11T17:33:26.728062Z",
     "shell.execute_reply": "2023-10-11T17:33:26.726819Z"
    },
    "papermill": {
     "duration": 0.177162,
     "end_time": "2023-10-11T17:33:26.730672",
     "exception": false,
     "start_time": "2023-10-11T17:33:26.553510",
     "status": "completed"
    },
    "tags": []
   },
   "outputs": [
    {
     "name": "stdout",
     "output_type": "stream",
     "text": [
      "<class 'pandas.core.frame.DataFrame'>\n",
      "RangeIndex: 187531 entries, 0 to 187530\n",
      "Data columns (total 21 columns):\n",
      " #   Column             Non-Null Count   Dtype  \n",
      "---  ------             --------------   -----  \n",
      " 0   Index              187531 non-null  int64  \n",
      " 1   Title              187531 non-null  object \n",
      " 2   Description        184508 non-null  object \n",
      " 3   Amount(in rupees)  187531 non-null  object \n",
      " 4   Price (in rupees)  169866 non-null  float64\n",
      " 5   location           187531 non-null  object \n",
      " 6   Carpet Area        106858 non-null  object \n",
      " 7   Status             186916 non-null  object \n",
      " 8   Floor              180454 non-null  object \n",
      " 9   Transaction        187448 non-null  object \n",
      " 10  Furnishing         184634 non-null  object \n",
      " 11  facing             117298 non-null  object \n",
      " 12  overlooking        106095 non-null  object \n",
      " 13  Society            77853 non-null   object \n",
      " 14  Bathroom           186703 non-null  object \n",
      " 15  Balcony            138596 non-null  object \n",
      " 16  Car Parking        84174 non-null   object \n",
      " 17  Ownership          122014 non-null  object \n",
      " 18  Super Area         79846 non-null   object \n",
      " 19  Dimensions         0 non-null       float64\n",
      " 20  Plot Area          0 non-null       float64\n",
      "dtypes: float64(3), int64(1), object(17)\n",
      "memory usage: 30.0+ MB\n"
     ]
    }
   ],
   "source": [
    "df.info()"
   ]
  },
  {
   "cell_type": "code",
   "execution_count": 5,
   "id": "e65d6628",
   "metadata": {
    "execution": {
     "iopub.execute_input": "2023-10-11T17:33:26.741699Z",
     "iopub.status.busy": "2023-10-11T17:33:26.741347Z",
     "iopub.status.idle": "2023-10-11T17:33:26.891567Z",
     "shell.execute_reply": "2023-10-11T17:33:26.890534Z"
    },
    "papermill": {
     "duration": 0.158298,
     "end_time": "2023-10-11T17:33:26.893617",
     "exception": false,
     "start_time": "2023-10-11T17:33:26.735319",
     "status": "completed"
    },
    "tags": []
   },
   "outputs": [
    {
     "data": {
      "text/plain": [
       "Index                     0\n",
       "Title                     0\n",
       "Description            3023\n",
       "Amount(in rupees)         0\n",
       "Price (in rupees)     17665\n",
       "location                  0\n",
       "Carpet Area           80673\n",
       "Status                  615\n",
       "Floor                  7077\n",
       "Transaction              83\n",
       "Furnishing             2897\n",
       "facing                70233\n",
       "overlooking           81436\n",
       "Society              109678\n",
       "Bathroom                828\n",
       "Balcony               48935\n",
       "Car Parking          103357\n",
       "Ownership             65517\n",
       "Super Area           107685\n",
       "Dimensions           187531\n",
       "Plot Area            187531\n",
       "dtype: int64"
      ]
     },
     "execution_count": 5,
     "metadata": {},
     "output_type": "execute_result"
    }
   ],
   "source": [
    "df.isnull().sum()"
   ]
  },
  {
   "cell_type": "code",
   "execution_count": 6,
   "id": "c637fa83",
   "metadata": {
    "execution": {
     "iopub.execute_input": "2023-10-11T17:33:26.904977Z",
     "iopub.status.busy": "2023-10-11T17:33:26.904601Z",
     "iopub.status.idle": "2023-10-11T17:33:27.055033Z",
     "shell.execute_reply": "2023-10-11T17:33:27.053575Z"
    },
    "papermill": {
     "duration": 0.158975,
     "end_time": "2023-10-11T17:33:27.057406",
     "exception": false,
     "start_time": "2023-10-11T17:33:26.898431",
     "status": "completed"
    },
    "tags": []
   },
   "outputs": [
    {
     "name": "stdout",
     "output_type": "stream",
     "text": [
      "Index                  0.000000\n",
      "Title                  0.000000\n",
      "Description            1.612000\n",
      "Amount(in rupees)      0.000000\n",
      "Price (in rupees)      9.419776\n",
      "location               0.000000\n",
      "Carpet Area           43.018488\n",
      "Status                 0.327946\n",
      "Floor                  3.773776\n",
      "Transaction            0.044259\n",
      "Furnishing             1.544811\n",
      "facing                37.451408\n",
      "overlooking           43.425354\n",
      "Society               58.485264\n",
      "Bathroom               0.441527\n",
      "Balcony               26.094352\n",
      "Car Parking           55.114621\n",
      "Ownership             34.936624\n",
      "Super Area            57.422506\n",
      "Dimensions           100.000000\n",
      "Plot Area            100.000000\n",
      "dtype: float64\n"
     ]
    }
   ],
   "source": [
    "def null_avg():\n",
    "    totals_rows = df.shape[0]\n",
    "    avge_nulls = (df.isnull().sum() / totals_rows) * 100\n",
    "    print(avge_nulls)\n",
    "null_avg()"
   ]
  },
  {
   "cell_type": "code",
   "execution_count": 7,
   "id": "4f1e1224",
   "metadata": {
    "execution": {
     "iopub.execute_input": "2023-10-11T17:33:27.068895Z",
     "iopub.status.busy": "2023-10-11T17:33:27.068522Z",
     "iopub.status.idle": "2023-10-11T17:33:27.102863Z",
     "shell.execute_reply": "2023-10-11T17:33:27.101724Z"
    },
    "papermill": {
     "duration": 0.043618,
     "end_time": "2023-10-11T17:33:27.105810",
     "exception": false,
     "start_time": "2023-10-11T17:33:27.062192",
     "status": "completed"
    },
    "tags": []
   },
   "outputs": [],
   "source": [
    "df.drop(columns=['Society', 'Car Parking', 'Super Area', 'Dimensions', 'Plot Area','Index',\n",
    "                 'overlooking','Carpet Area','Title','Description'], inplace=True)"
   ]
  },
  {
   "cell_type": "code",
   "execution_count": 8,
   "id": "26ab27c0",
   "metadata": {
    "execution": {
     "iopub.execute_input": "2023-10-11T17:33:27.117317Z",
     "iopub.status.busy": "2023-10-11T17:33:27.116951Z",
     "iopub.status.idle": "2023-10-11T17:33:27.189596Z",
     "shell.execute_reply": "2023-10-11T17:33:27.188074Z"
    },
    "papermill": {
     "duration": 0.080975,
     "end_time": "2023-10-11T17:33:27.191888",
     "exception": false,
     "start_time": "2023-10-11T17:33:27.110913",
     "status": "completed"
    },
    "tags": []
   },
   "outputs": [
    {
     "data": {
      "text/plain": [
       "0"
      ]
     },
     "execution_count": 8,
     "metadata": {},
     "output_type": "execute_result"
    }
   ],
   "source": [
    "df.dropna(subset=['Bathroom'], inplace=True)\n",
    "df.Bathroom.isnull().sum()\n",
    "df['Balcony'].fillna(0,inplace=True)\n",
    "df.Balcony.isnull().sum()"
   ]
  },
  {
   "cell_type": "code",
   "execution_count": 9,
   "id": "6ad84761",
   "metadata": {
    "execution": {
     "iopub.execute_input": "2023-10-11T17:33:27.204095Z",
     "iopub.status.busy": "2023-10-11T17:33:27.203136Z",
     "iopub.status.idle": "2023-10-11T17:33:27.295689Z",
     "shell.execute_reply": "2023-10-11T17:33:27.294138Z"
    },
    "papermill": {
     "duration": 0.102093,
     "end_time": "2023-10-11T17:33:27.299046",
     "exception": false,
     "start_time": "2023-10-11T17:33:27.196953",
     "status": "completed"
    },
    "tags": []
   },
   "outputs": [
    {
     "name": "stdout",
     "output_type": "stream",
     "text": [
      "Amount(in rupees)     0.000000\n",
      "Price (in rupees)     9.421916\n",
      "location              0.000000\n",
      "Status                0.329400\n",
      "Floor                 3.399517\n",
      "Transaction           0.043920\n",
      "Furnishing            1.138707\n",
      "facing               37.194903\n",
      "Bathroom              0.000000\n",
      "Balcony               0.000000\n",
      "Ownership            34.674322\n",
      "dtype: float64\n"
     ]
    }
   ],
   "source": [
    "null_avg()"
   ]
  },
  {
   "cell_type": "code",
   "execution_count": 10,
   "id": "6c7c6897",
   "metadata": {
    "execution": {
     "iopub.execute_input": "2023-10-11T17:33:27.312093Z",
     "iopub.status.busy": "2023-10-11T17:33:27.311749Z",
     "iopub.status.idle": "2023-10-11T17:33:27.521505Z",
     "shell.execute_reply": "2023-10-11T17:33:27.520260Z"
    },
    "papermill": {
     "duration": 0.219273,
     "end_time": "2023-10-11T17:33:27.524189",
     "exception": false,
     "start_time": "2023-10-11T17:33:27.304916",
     "status": "completed"
    },
    "tags": []
   },
   "outputs": [],
   "source": [
    "# 1. Fill null values in 'Description', 'Facing', 'Overlooking', and 'Ownership' with 'Unknown'\n",
    "cols_to_fill_unknown = ['facing', 'Ownership','Floor','Status','Transaction','Furnishing']\n",
    "df[cols_to_fill_unknown] = df[cols_to_fill_unknown].fillna('Unknown')\n",
    "\n",
    "# Convert 'Amount(in rupees)' to numerical format\n",
    "def convert_amount(amount):\n",
    "    try:\n",
    "        if 'Lac' in amount:\n",
    "            amount = amount.replace('Lac', '').strip()\n",
    "            return float(amount) * 100000  # Convert Lac to rupees (1 Lac = 100000 rupees)\n",
    "        elif 'Cr' in amount:\n",
    "            amount = amount.replace('Cr', '').strip()\n",
    "            return float(amount) * 10000000  # Convert Cr to rupees (1 Cr = 10000000 rupees)\n",
    "        else:\n",
    "            return float(amount)\n",
    "    except ValueError:\n",
    "        return None\n",
    "\n",
    "df['Amount(in rupees)'] = df['Amount(in rupees)'].apply(convert_amount)"
   ]
  },
  {
   "cell_type": "code",
   "execution_count": 11,
   "id": "8835e6eb",
   "metadata": {
    "execution": {
     "iopub.execute_input": "2023-10-11T17:33:27.536653Z",
     "iopub.status.busy": "2023-10-11T17:33:27.536229Z",
     "iopub.status.idle": "2023-10-11T17:33:27.551836Z",
     "shell.execute_reply": "2023-10-11T17:33:27.550769Z"
    },
    "papermill": {
     "duration": 0.024622,
     "end_time": "2023-10-11T17:33:27.554066",
     "exception": false,
     "start_time": "2023-10-11T17:33:27.529444",
     "status": "completed"
    },
    "tags": []
   },
   "outputs": [
    {
     "data": {
      "text/html": [
       "<div>\n",
       "<style scoped>\n",
       "    .dataframe tbody tr th:only-of-type {\n",
       "        vertical-align: middle;\n",
       "    }\n",
       "\n",
       "    .dataframe tbody tr th {\n",
       "        vertical-align: top;\n",
       "    }\n",
       "\n",
       "    .dataframe thead th {\n",
       "        text-align: right;\n",
       "    }\n",
       "</style>\n",
       "<table border=\"1\" class=\"dataframe\">\n",
       "  <thead>\n",
       "    <tr style=\"text-align: right;\">\n",
       "      <th></th>\n",
       "      <th>Amount(in rupees)</th>\n",
       "      <th>Price (in rupees)</th>\n",
       "      <th>location</th>\n",
       "      <th>Status</th>\n",
       "      <th>Floor</th>\n",
       "      <th>Transaction</th>\n",
       "      <th>Furnishing</th>\n",
       "      <th>facing</th>\n",
       "      <th>Bathroom</th>\n",
       "      <th>Balcony</th>\n",
       "      <th>Ownership</th>\n",
       "    </tr>\n",
       "  </thead>\n",
       "  <tbody>\n",
       "    <tr>\n",
       "      <th>0</th>\n",
       "      <td>4200000.0</td>\n",
       "      <td>6000.0</td>\n",
       "      <td>thane</td>\n",
       "      <td>Ready to Move</td>\n",
       "      <td>10 out of 11</td>\n",
       "      <td>Resale</td>\n",
       "      <td>Unfurnished</td>\n",
       "      <td>Unknown</td>\n",
       "      <td>1</td>\n",
       "      <td>2</td>\n",
       "      <td>Unknown</td>\n",
       "    </tr>\n",
       "    <tr>\n",
       "      <th>1</th>\n",
       "      <td>9800000.0</td>\n",
       "      <td>13799.0</td>\n",
       "      <td>thane</td>\n",
       "      <td>Ready to Move</td>\n",
       "      <td>3 out of 22</td>\n",
       "      <td>Resale</td>\n",
       "      <td>Semi-Furnished</td>\n",
       "      <td>East</td>\n",
       "      <td>2</td>\n",
       "      <td>0</td>\n",
       "      <td>Freehold</td>\n",
       "    </tr>\n",
       "    <tr>\n",
       "      <th>2</th>\n",
       "      <td>14000000.0</td>\n",
       "      <td>17500.0</td>\n",
       "      <td>thane</td>\n",
       "      <td>Ready to Move</td>\n",
       "      <td>10 out of 29</td>\n",
       "      <td>Resale</td>\n",
       "      <td>Unfurnished</td>\n",
       "      <td>East</td>\n",
       "      <td>2</td>\n",
       "      <td>0</td>\n",
       "      <td>Freehold</td>\n",
       "    </tr>\n",
       "    <tr>\n",
       "      <th>3</th>\n",
       "      <td>2500000.0</td>\n",
       "      <td>NaN</td>\n",
       "      <td>thane</td>\n",
       "      <td>Ready to Move</td>\n",
       "      <td>1 out of 3</td>\n",
       "      <td>Resale</td>\n",
       "      <td>Unfurnished</td>\n",
       "      <td>Unknown</td>\n",
       "      <td>1</td>\n",
       "      <td>1</td>\n",
       "      <td>Unknown</td>\n",
       "    </tr>\n",
       "    <tr>\n",
       "      <th>4</th>\n",
       "      <td>16000000.0</td>\n",
       "      <td>18824.0</td>\n",
       "      <td>thane</td>\n",
       "      <td>Ready to Move</td>\n",
       "      <td>20 out of 42</td>\n",
       "      <td>Resale</td>\n",
       "      <td>Unfurnished</td>\n",
       "      <td>West</td>\n",
       "      <td>2</td>\n",
       "      <td>0</td>\n",
       "      <td>Co-operative Society</td>\n",
       "    </tr>\n",
       "  </tbody>\n",
       "</table>\n",
       "</div>"
      ],
      "text/plain": [
       "   Amount(in rupees)  Price (in rupees) location         Status         Floor  \\\n",
       "0          4200000.0             6000.0    thane  Ready to Move  10 out of 11   \n",
       "1          9800000.0            13799.0    thane  Ready to Move   3 out of 22   \n",
       "2         14000000.0            17500.0    thane  Ready to Move  10 out of 29   \n",
       "3          2500000.0                NaN    thane  Ready to Move    1 out of 3   \n",
       "4         16000000.0            18824.0    thane  Ready to Move  20 out of 42   \n",
       "\n",
       "  Transaction      Furnishing   facing Bathroom Balcony             Ownership  \n",
       "0      Resale     Unfurnished  Unknown        1       2               Unknown  \n",
       "1      Resale  Semi-Furnished     East        2       0              Freehold  \n",
       "2      Resale     Unfurnished     East        2       0              Freehold  \n",
       "3      Resale     Unfurnished  Unknown        1       1               Unknown  \n",
       "4      Resale     Unfurnished     West        2       0  Co-operative Society  "
      ]
     },
     "execution_count": 11,
     "metadata": {},
     "output_type": "execute_result"
    }
   ],
   "source": [
    "df.head()"
   ]
  },
  {
   "cell_type": "code",
   "execution_count": 12,
   "id": "44f4fa9a",
   "metadata": {
    "execution": {
     "iopub.execute_input": "2023-10-11T17:33:27.566092Z",
     "iopub.status.busy": "2023-10-11T17:33:27.565709Z",
     "iopub.status.idle": "2023-10-11T17:33:27.591008Z",
     "shell.execute_reply": "2023-10-11T17:33:27.589549Z"
    },
    "papermill": {
     "duration": 0.034318,
     "end_time": "2023-10-11T17:33:27.593554",
     "exception": false,
     "start_time": "2023-10-11T17:33:27.559236",
     "status": "completed"
    },
    "tags": []
   },
   "outputs": [],
   "source": [
    "df = df.dropna(subset=['Price (in rupees)'])"
   ]
  },
  {
   "cell_type": "code",
   "execution_count": 13,
   "id": "29c4077a",
   "metadata": {
    "execution": {
     "iopub.execute_input": "2023-10-11T17:33:27.606074Z",
     "iopub.status.busy": "2023-10-11T17:33:27.605730Z",
     "iopub.status.idle": "2023-10-11T17:33:27.686681Z",
     "shell.execute_reply": "2023-10-11T17:33:27.685259Z"
    },
    "papermill": {
     "duration": 0.09027,
     "end_time": "2023-10-11T17:33:27.689591",
     "exception": false,
     "start_time": "2023-10-11T17:33:27.599321",
     "status": "completed"
    },
    "tags": []
   },
   "outputs": [
    {
     "name": "stdout",
     "output_type": "stream",
     "text": [
      "Amount(in rupees)    0.0\n",
      "Price (in rupees)    0.0\n",
      "location             0.0\n",
      "Status               0.0\n",
      "Floor                0.0\n",
      "Transaction          0.0\n",
      "Furnishing           0.0\n",
      "facing               0.0\n",
      "Bathroom             0.0\n",
      "Balcony              0.0\n",
      "Ownership            0.0\n",
      "dtype: float64\n"
     ]
    }
   ],
   "source": [
    "null_avg()"
   ]
  },
  {
   "cell_type": "code",
   "execution_count": 14,
   "id": "875f3f32",
   "metadata": {
    "execution": {
     "iopub.execute_input": "2023-10-11T17:33:27.702466Z",
     "iopub.status.busy": "2023-10-11T17:33:27.702053Z",
     "iopub.status.idle": "2023-10-11T17:33:27.790081Z",
     "shell.execute_reply": "2023-10-11T17:33:27.788766Z"
    },
    "papermill": {
     "duration": 0.097235,
     "end_time": "2023-10-11T17:33:27.792595",
     "exception": false,
     "start_time": "2023-10-11T17:33:27.695360",
     "status": "completed"
    },
    "tags": []
   },
   "outputs": [
    {
     "name": "stdout",
     "output_type": "stream",
     "text": [
      "<class 'pandas.core.frame.DataFrame'>\n",
      "Index: 169112 entries, 0 to 187530\n",
      "Data columns (total 11 columns):\n",
      " #   Column             Non-Null Count   Dtype  \n",
      "---  ------             --------------   -----  \n",
      " 0   Amount(in rupees)  169112 non-null  float64\n",
      " 1   Price (in rupees)  169112 non-null  float64\n",
      " 2   location           169112 non-null  object \n",
      " 3   Status             169112 non-null  object \n",
      " 4   Floor              169112 non-null  object \n",
      " 5   Transaction        169112 non-null  object \n",
      " 6   Furnishing         169112 non-null  object \n",
      " 7   facing             169112 non-null  object \n",
      " 8   Bathroom           169112 non-null  object \n",
      " 9   Balcony            169112 non-null  object \n",
      " 10  Ownership          169112 non-null  object \n",
      "dtypes: float64(2), object(9)\n",
      "memory usage: 15.5+ MB\n"
     ]
    }
   ],
   "source": [
    "df.info()"
   ]
  },
  {
   "cell_type": "code",
   "execution_count": 15,
   "id": "4700ed21",
   "metadata": {
    "execution": {
     "iopub.execute_input": "2023-10-11T17:33:27.804817Z",
     "iopub.status.busy": "2023-10-11T17:33:27.804485Z",
     "iopub.status.idle": "2023-10-11T17:33:27.970841Z",
     "shell.execute_reply": "2023-10-11T17:33:27.969790Z"
    },
    "papermill": {
     "duration": 0.175311,
     "end_time": "2023-10-11T17:33:27.973246",
     "exception": false,
     "start_time": "2023-10-11T17:33:27.797935",
     "status": "completed"
    },
    "tags": []
   },
   "outputs": [],
   "source": [
    "def convertir_valor(valor):\n",
    "    if isinstance(valor, str) and '>' in valor:\n",
    "        return int(valor.replace('>', ''))\n",
    "    else:\n",
    "        return int(valor)\n",
    "\n",
    "# Aplicar la función a la columna 'Columna1'\n",
    "df['Bathroom'] = df['Bathroom'].apply(convertir_valor)\n",
    "df['Balcony'] = df['Balcony'].apply(convertir_valor)"
   ]
  },
  {
   "cell_type": "code",
   "execution_count": 16,
   "id": "08d01edf",
   "metadata": {
    "execution": {
     "iopub.execute_input": "2023-10-11T17:33:27.985655Z",
     "iopub.status.busy": "2023-10-11T17:33:27.985267Z",
     "iopub.status.idle": "2023-10-11T17:33:28.309611Z",
     "shell.execute_reply": "2023-10-11T17:33:28.307835Z"
    },
    "papermill": {
     "duration": 0.333578,
     "end_time": "2023-10-11T17:33:28.312118",
     "exception": false,
     "start_time": "2023-10-11T17:33:27.978540",
     "status": "completed"
    },
    "tags": []
   },
   "outputs": [
    {
     "data": {
      "text/html": [
       "<div>\n",
       "<style scoped>\n",
       "    .dataframe tbody tr th:only-of-type {\n",
       "        vertical-align: middle;\n",
       "    }\n",
       "\n",
       "    .dataframe tbody tr th {\n",
       "        vertical-align: top;\n",
       "    }\n",
       "\n",
       "    .dataframe thead th {\n",
       "        text-align: right;\n",
       "    }\n",
       "</style>\n",
       "<table border=\"1\" class=\"dataframe\">\n",
       "  <thead>\n",
       "    <tr style=\"text-align: right;\">\n",
       "      <th></th>\n",
       "      <th>Amount(in rupees)</th>\n",
       "      <th>Price (in rupees)</th>\n",
       "      <th>location</th>\n",
       "      <th>Status</th>\n",
       "      <th>Floor</th>\n",
       "      <th>Transaction</th>\n",
       "      <th>Furnishing</th>\n",
       "      <th>facing</th>\n",
       "      <th>Bathroom</th>\n",
       "      <th>Balcony</th>\n",
       "      <th>Ownership</th>\n",
       "    </tr>\n",
       "  </thead>\n",
       "  <tbody>\n",
       "    <tr>\n",
       "      <th>126206</th>\n",
       "      <td>43500000.0</td>\n",
       "      <td>21481.0</td>\n",
       "      <td>50</td>\n",
       "      <td>0</td>\n",
       "      <td>346</td>\n",
       "      <td>0</td>\n",
       "      <td>1</td>\n",
       "      <td>0</td>\n",
       "      <td>4</td>\n",
       "      <td>2</td>\n",
       "      <td>1</td>\n",
       "    </tr>\n",
       "    <tr>\n",
       "      <th>165172</th>\n",
       "      <td>3800000.0</td>\n",
       "      <td>4000.0</td>\n",
       "      <td>22</td>\n",
       "      <td>0</td>\n",
       "      <td>350</td>\n",
       "      <td>3</td>\n",
       "      <td>1</td>\n",
       "      <td>7</td>\n",
       "      <td>2</td>\n",
       "      <td>2</td>\n",
       "      <td>4</td>\n",
       "    </tr>\n",
       "    <tr>\n",
       "      <th>145793</th>\n",
       "      <td>4560000.0</td>\n",
       "      <td>4829.0</td>\n",
       "      <td>57</td>\n",
       "      <td>0</td>\n",
       "      <td>134</td>\n",
       "      <td>0</td>\n",
       "      <td>2</td>\n",
       "      <td>0</td>\n",
       "      <td>2</td>\n",
       "      <td>2</td>\n",
       "      <td>0</td>\n",
       "    </tr>\n",
       "    <tr>\n",
       "      <th>49189</th>\n",
       "      <td>5200000.0</td>\n",
       "      <td>3714.0</td>\n",
       "      <td>13</td>\n",
       "      <td>0</td>\n",
       "      <td>135</td>\n",
       "      <td>3</td>\n",
       "      <td>3</td>\n",
       "      <td>7</td>\n",
       "      <td>3</td>\n",
       "      <td>0</td>\n",
       "      <td>4</td>\n",
       "    </tr>\n",
       "    <tr>\n",
       "      <th>179455</th>\n",
       "      <td>13400000.0</td>\n",
       "      <td>4621.0</td>\n",
       "      <td>66</td>\n",
       "      <td>0</td>\n",
       "      <td>821</td>\n",
       "      <td>0</td>\n",
       "      <td>2</td>\n",
       "      <td>0</td>\n",
       "      <td>5</td>\n",
       "      <td>5</td>\n",
       "      <td>1</td>\n",
       "    </tr>\n",
       "  </tbody>\n",
       "</table>\n",
       "</div>"
      ],
      "text/plain": [
       "        Amount(in rupees)  Price (in rupees)  location  Status  Floor  \\\n",
       "126206         43500000.0            21481.0        50       0    346   \n",
       "165172          3800000.0             4000.0        22       0    350   \n",
       "145793          4560000.0             4829.0        57       0    134   \n",
       "49189           5200000.0             3714.0        13       0    135   \n",
       "179455         13400000.0             4621.0        66       0    821   \n",
       "\n",
       "        Transaction  Furnishing  facing  Bathroom  Balcony  Ownership  \n",
       "126206            0           1       0         4        2          1  \n",
       "165172            3           1       7         2        2          4  \n",
       "145793            0           2       0         2        2          0  \n",
       "49189             3           3       7         3        0          4  \n",
       "179455            0           2       0         5        5          1  "
      ]
     },
     "execution_count": 16,
     "metadata": {},
     "output_type": "execute_result"
    }
   ],
   "source": [
    "df.Bathroom = df.Bathroom.astype(int)\n",
    "df.Balcony = df.Balcony.astype(int)\n",
    "\n",
    "cat_val=df.select_dtypes(include=['object']).columns\n",
    "\n",
    "le=LabelEncoder()\n",
    "for i in cat_val:\n",
    "    df[i]=le.fit_transform(df[i])\n",
    "    \n",
    "df.sample(5)"
   ]
  },
  {
   "cell_type": "code",
   "execution_count": 17,
   "id": "cab4fd0b",
   "metadata": {
    "execution": {
     "iopub.execute_input": "2023-10-11T17:33:28.325651Z",
     "iopub.status.busy": "2023-10-11T17:33:28.325268Z",
     "iopub.status.idle": "2023-10-11T17:34:03.445691Z",
     "shell.execute_reply": "2023-10-11T17:34:03.444231Z"
    },
    "papermill": {
     "duration": 35.135223,
     "end_time": "2023-10-11T17:34:03.453385",
     "exception": false,
     "start_time": "2023-10-11T17:33:28.318162",
     "status": "completed"
    },
    "tags": []
   },
   "outputs": [
    {
     "name": "stdout",
     "output_type": "stream",
     "text": [
      "R-squared (R2): 0.7804901762341945\n"
     ]
    }
   ],
   "source": [
    "X = df.drop('Amount(in rupees)', axis=1)\n",
    "y = df['Amount(in rupees)']\n",
    "X_train, X_test, y_train, y_test = train_test_split(X,y,test_size=0.3)\n",
    "\n",
    "model = RandomForestRegressor(n_estimators=100)\n",
    "model.fit(X_train, y_train)\n",
    "y_pred = model.predict(X_test)\n",
    "\n",
    "r2 = r2_score(y_test, y_pred)\n",
    "\n",
    "print(\"R-squared (R2):\", r2)"
   ]
  },
  {
   "cell_type": "code",
   "execution_count": null,
   "id": "c0b8e3ac",
   "metadata": {
    "papermill": {
     "duration": 0.005429,
     "end_time": "2023-10-11T17:34:03.464578",
     "exception": false,
     "start_time": "2023-10-11T17:34:03.459149",
     "status": "completed"
    },
    "tags": []
   },
   "outputs": [],
   "source": []
  }
 ],
 "metadata": {
  "kernelspec": {
   "display_name": "base",
   "language": "python",
   "name": "python3"
  },
  "language_info": {
   "codemirror_mode": {
    "name": "ipython",
    "version": 3
   },
   "file_extension": ".py",
   "mimetype": "text/x-python",
   "name": "python",
   "nbconvert_exporter": "python",
   "pygments_lexer": "ipython3",
   "version": "3.12.7"
  },
  "papermill": {
   "default_parameters": {},
   "duration": 49.030558,
   "end_time": "2023-10-11T17:34:04.294770",
   "environment_variables": {},
   "exception": null,
   "input_path": "__notebook__.ipynb",
   "output_path": "__notebook__.ipynb",
   "parameters": {},
   "start_time": "2023-10-11T17:33:15.264212",
   "version": "2.4.0"
  }
 },
 "nbformat": 4,
 "nbformat_minor": 5
}
